{
 "cells": [
  {
   "cell_type": "code",
   "execution_count": 5,
   "metadata": {},
   "outputs": [
    {
     "name": "stdout",
     "output_type": "stream",
     "text": [
      "How much does your package weigh?: 4\n",
      "Where would you like your goods to be delivered to?: Epe\n",
      "The price of your goods is 4000\n"
     ]
    }
   ],
   "source": [
    "price = 0\n",
    "\n",
    "class service:\n",
    "    def __init__(self,location,weight):\n",
    "        self.location = location\n",
    "        self.weight = weight\n",
    "    def calculate(self,location,weight):\n",
    "        if self.location == 'PAU' and self.weight < 10:\n",
    "            price = 1500\n",
    "        elif  self.location == 'PAU' and self.weight > 10:\n",
    "            price = 2000\n",
    "        elif  self.location == 'Epe' and self.weight < 10:\n",
    "            price = 4000    \n",
    "        elif  self.location == 'Epe' and self.weight >10:\n",
    "            price = 5000\n",
    "        else:\n",
    "            pass\n",
    "        print(\"The price of your goods is\",price)  \n",
    "\n",
    "\n",
    "weight = int(input(\"How much does your package weigh?: \"))\n",
    "location = str(input(\"Where would you like your goods to be delivered to?: \"))\n",
    "deliver = service(location,weight) \n",
    "deliver.calculate(location,weight)                 "
   ]
  },
  {
   "cell_type": "code",
   "execution_count": 10,
   "metadata": {},
   "outputs": [
    {
     "name": "stdout",
     "output_type": "stream",
     "text": [
      "Hello John Welcome to work\n",
      "Your task is run and your attendace is True\n"
     ]
    }
   ],
   "source": [
    "import random \n",
    "class emp():\n",
    "    \n",
    "    Employee = [1,2,3,4,5,6,7,8,9,10,11,12,13,14,15]\n",
    "    task = [\"mop\",\"sweep\",\"run\"]\n",
    "\n",
    "    def __init__(self,name):\n",
    "        self.name = name\n",
    "        self.attend = False\n",
    "        self.assigned_task = \"\"\n",
    "        self.is_employee = False\n",
    "        \n",
    "        pass\n",
    "    def check_employee(self,ID):\n",
    "        if ID in self.Employee:\n",
    "            self.is_employee = True\n",
    "            self.take_attendace()\n",
    "            self.assign_task()\n",
    "            self.duty()\n",
    "        else:\n",
    "            self.refuse_access()\n",
    "        pass\n",
    "    def take_attendace(self):\n",
    "        self.attend = True\n",
    "        pass\n",
    "    def assign_task(self):\n",
    "        self.assigned_task = random.choice(self.task)\n",
    "        \n",
    "        pass\n",
    "    def refuse_access(self):\n",
    "        print(\"Sorry, access denied\")\n",
    "        pass\n",
    "    def duty(self):\n",
    "        print(\"Hello\",self.name,\"Welcome to work\")\n",
    "        print(f\"Your task is {self.assigned_task} and your attendace is {self.attend}\")\n",
    "\n",
    "john = emp(\"John\")\n",
    "john.check_employee(12)"
   ]
  },
  {
   "cell_type": "code",
   "execution_count": null,
   "metadata": {},
   "outputs": [],
   "source": []
  }
 ],
 "metadata": {
  "kernelspec": {
   "display_name": "Python 3",
   "language": "python",
   "name": "python3"
  }
 },
 "nbformat": 4,
 "nbformat_minor": 4
}
