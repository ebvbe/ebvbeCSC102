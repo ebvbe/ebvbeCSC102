{
 "cells": [
  {
   "cell_type": "markdown",
   "metadata": {},
   "source": [
    "## Ebube Olele\n",
    "\n",
    "## <i>21120612489</i> \n",
    "## <i>peter.olele@pau.edu.ng</i>\n",
    "\n",
    "## Project 1"
   ]
  },
  {
   "cell_type": "markdown",
   "metadata": {},
   "source": [
    "### <i>Pseudocode</i>:\n",
    "##### INPUT Number \n",
    "##### LET Number = n\n",
    "##### PRINT n - 17\n",
    "##### IF n > 17\n",
    "##### PRINT n^2\n",
    "##### END"
   ]
  },
  {
   "cell_type": "markdown",
   "metadata": {},
   "source": [
    "### <i>Python code</i>:"
   ]
  },
  {
   "cell_type": "code",
   "execution_count": 4,
   "metadata": {},
   "outputs": [
    {
     "name": "stdout",
     "output_type": "stream",
     "text": [
      "Input your number: 5\n",
      "-12\n"
     ]
    }
   ],
   "source": [
    "n = int(input(\"Input your number: \"))\n",
    "print(n-17)\n",
    "\n",
    "if n>17:\n",
    "    print(n^2)\n"
   ]
  },
  {
   "cell_type": "markdown",
   "metadata": {},
   "source": [
    "## Project 2\n",
    "### <i>Pseudocode:</i>\n",
    "##### INPUT n1\n",
    "##### INPUT n2\n",
    "##### INPUT n3\n",
    "##### IF n1 = n2 and n2 = n3:\n",
    "#####  total ← (n1 + n2 + n3)*3\n",
    "##### ELSE:\n",
    "#####  total ← n1 + n2 + n3\n",
    "##### PRINT total"
   ]
  },
  {
   "cell_type": "markdown",
   "metadata": {},
   "source": [
    "### <i>Python code</i>:"
   ]
  },
  {
   "cell_type": "code",
   "execution_count": 6,
   "metadata": {},
   "outputs": [
    {
     "name": "stdout",
     "output_type": "stream",
     "text": [
      "Input your first number: 1\n",
      "Input your second number: 2\n",
      "Input your third number: 3\n",
      "6\n"
     ]
    }
   ],
   "source": [
    "n1 = int(input(\"Input your first number: \"))\n",
    "n2 = int(input(\"Input your second number: \"))\n",
    "n3 = int(input(\"Input your third number: \"))\n",
    "\n",
    "if n1 == n2 and n2 == n3:\n",
    "    total = (n1 + n2 + n3)*3\n",
    "else:\n",
    "    total = n1 + n2 + n3\n",
    "print (total)    "
   ]
  },
  {
   "cell_type": "markdown",
   "metadata": {},
   "source": [
    "## Project 3\n",
    "### <i>Pseudocode:</i>\n",
    "##### INPUT n1\n",
    "##### INPUT n2\n",
    "##### if n1 == n2 or n1+n2 == 5 or n1-n2 == 5:\n",
    "##### PRINT True\n",
    "##### ELSE:\n",
    "##### PRINT False"
   ]
  },
  {
   "cell_type": "markdown",
   "metadata": {},
   "source": [
    "### <i>Python code</i>:"
   ]
  },
  {
   "cell_type": "code",
   "execution_count": 13,
   "metadata": {},
   "outputs": [
    {
     "name": "stdout",
     "output_type": "stream",
     "text": [
      "Input your first number: 2\n",
      "Input your second number: 4\n",
      "False\n"
     ]
    }
   ],
   "source": [
    "n1 = int(input(\"Input your first number: \"))\n",
    "n2 = int(input(\"Input your second number: \"))\n",
    "if n1 == n2 or n1+n2 == 5 or n1-n2 == 5:\n",
    "    print(\"True\")\n",
    "else:\n",
    "    print(\"False\")"
   ]
  },
  {
   "cell_type": "markdown",
   "metadata": {},
   "source": [
    "## Project 4\n",
    "### <i>Pseudocode:</i>\n",
    "##### ..."
   ]
  },
  {
   "cell_type": "markdown",
   "metadata": {},
   "source": [
    "### <i>Python code</i>:"
   ]
  },
  {
   "cell_type": "code",
   "execution_count": null,
   "metadata": {},
   "outputs": [],
   "source": [
    "n1 = int(input(\"Input your first number: \"))\n",
    "n2 = int(input(\"Input your second number: \"))\n",
    "n3 = int(input(\"Input your third number: \"))\n",
    "if n1 > n2 and n3 > n2:\n",
    "    a = n1\n",
    "    b = n2\n",
    "    c = n3\n",
    "elif n1 > n2 and n3 < n2:\n",
    "    a = n1\n",
    "    b = n3\n",
    "    c = n2    "
   ]
  },
  {
   "cell_type": "markdown",
   "metadata": {},
   "source": [
    "## Project 5\n",
    "### <i>Pseudocode:</i>\n",
    "##### ..."
   ]
  },
  {
   "cell_type": "markdown",
   "metadata": {},
   "source": [
    "### <i>Python code</i>:"
   ]
  },
  {
   "cell_type": "code",
   "execution_count": null,
   "metadata": {},
   "outputs": [],
   "source": []
  }
 ],
 "metadata": {
  "kernelspec": {
   "display_name": "Python 3",
   "language": "python",
   "name": "python3"
  },
  "language_info": {
   "codemirror_mode": {
    "name": "ipython",
    "version": 3
   },
   "file_extension": ".py",
   "mimetype": "text/x-python",
   "name": "python",
   "nbconvert_exporter": "python",
   "pygments_lexer": "ipython3",
   "version": "3.8.5"
  }
 },
 "nbformat": 4,
 "nbformat_minor": 4
}
